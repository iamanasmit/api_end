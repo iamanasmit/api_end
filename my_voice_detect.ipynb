{
 "cells": [
  {
   "cell_type": "code",
   "execution_count": 12,
   "metadata": {},
   "outputs": [],
   "source": [
    "import librosa\n",
    "import numpy as np"
   ]
  },
  {
   "cell_type": "code",
   "execution_count": 13,
   "metadata": {},
   "outputs": [
    {
     "name": "stdout",
     "output_type": "stream",
     "text": [
      "Audio Shape: (46685,), Sample Rate: 16000\n"
     ]
    }
   ],
   "source": [
    "audio, sr = librosa.load(\"test.opus\", sr=16000)  # 1D array of amplitudes\n",
    "print(f\"Audio Shape: {audio.shape}, Sample Rate: {sr}\")"
   ]
  },
  {
   "cell_type": "code",
   "execution_count": 14,
   "metadata": {},
   "outputs": [
    {
     "data": {
      "text/plain": [
       "[PhysicalDevice(name='/physical_device:GPU:0', device_type='GPU')]"
      ]
     },
     "execution_count": 14,
     "metadata": {},
     "output_type": "execute_result"
    }
   ],
   "source": [
    "import tensorflow as tf\n",
    "tf.config.list_physical_devices('GPU')"
   ]
  },
  {
   "cell_type": "code",
   "execution_count": 15,
   "metadata": {},
   "outputs": [
    {
     "data": {
      "text/plain": [
       "[<matplotlib.lines.Line2D at 0x1fbd114d6c0>]"
      ]
     },
     "execution_count": 15,
     "metadata": {},
     "output_type": "execute_result"
    },
    {
     "data": {
      "image/png": "[encoded data removed]",
      "text/plain": [
       "<Figure size 1000x400 with 1 Axes>"
      ]
     },
     "metadata": {},
     "output_type": "display_data"
    }
   ],
   "source": [
    "import matplotlib.pyplot as plt\n",
    "plt.figure(figsize=(10,4))\n",
    "plt.plot(audio)"
   ]
  },
  {
   "cell_type": "code",
   "execution_count": 16,
   "metadata": {},
   "outputs": [
    {
     "name": "stderr",
     "output_type": "stream",
     "text": [
      "Loading off: 100%|██████████| 1521/1521 [00:01<00:00, 884.50it/s]\n",
      "Loading on: 100%|██████████| 1656/1656 [00:02<00:00, 826.78it/s]\n"
     ]
    },
    {
     "name": "stdout",
     "output_type": "stream",
     "text": [
      "Loaded 3177 audio files with shape (3177, 16000)\n",
      "Spectrogram shape: (3177, 513, 32)\n"
     ]
    }
   ],
   "source": [
    "import os\n",
    "import librosa\n",
    "import librosa.display\n",
    "from tqdm import tqdm\n",
    "\n",
    "# Lists to store data\n",
    "audios = []\n",
    "labels = []\n",
    "audio_spectrograms = []\n",
    "\n",
    "# Fixed parameters\n",
    "fixed_length = 16000  # 1 sec at 16kHz (adjust as needed)\n",
    "n_fft = 1024  # FFT window size\n",
    "hop_length = 512  # Hop length for STFT\n",
    "n_mels = 128  # Mel frequency bins (optional)\n",
    "\n",
    "# Data loading loop\n",
    "data_path = 'test'  # Path to dataset\n",
    "\n",
    "for dir_name in os.listdir(data_path):\n",
    "    dir_path = os.path.join(data_path, dir_name)\n",
    "    \n",
    "    if not os.path.isdir(dir_path):\n",
    "        continue  # Skip non-directory files\n",
    "    \n",
    "    for file in tqdm(os.listdir(dir_path), desc=f'Loading {dir_name}'):\n",
    "        file_path = os.path.join(dir_path, file)\n",
    "        \n",
    "        try:\n",
    "            # Load audio with fixed sample rate\n",
    "            audio, sr = librosa.load(file_path, sr=16000)\n",
    "            \n",
    "            # Pad or truncate to fixed length\n",
    "            audio = librosa.util.fix_length(audio, size=fixed_length)\n",
    "            \n",
    "            # Compute STFT and convert to dB spectrogram\n",
    "            spectrogram = librosa.stft(audio, n_fft=n_fft, hop_length=hop_length)\n",
    "            spectrogram_db = librosa.amplitude_to_db(np.abs(spectrogram), ref=np.max)\n",
    "            \n",
    "            # Normalize spectrogram (optional)\n",
    "            spectrogram_db = (spectrogram_db - spectrogram_db.min()) / (spectrogram_db.max() - spectrogram_db.min())\n",
    "\n",
    "            # Store data\n",
    "            audios.append(audio)\n",
    "            audio_spectrograms.append(spectrogram_db)\n",
    "            labels.append(dir_name)\n",
    "\n",
    "        except Exception as e:\n",
    "            print(f\"Error processing {file}: {e}\")\n",
    "\n",
    "# Convert to NumPy arrays\n",
    "audios = np.array(audios)\n",
    "audio_spectrograms = np.array(audio_spectrograms, dtype=np.float32)\n",
    "\n",
    "print(f\"Loaded {len(audios)} audio files with shape {audios.shape}\")\n",
    "print(f\"Spectrogram shape: {audio_spectrograms.shape}\")\n"
   ]
  },
  {
   "cell_type": "code",
   "execution_count": 17,
   "metadata": {},
   "outputs": [],
   "source": [
    "from sklearn.preprocessing import LabelEncoder\n",
    "label_encoder = LabelEncoder()\n",
    "labels = label_encoder.fit_transform(labels)"
   ]
  },
  {
   "cell_type": "code",
   "execution_count": 18,
   "metadata": {},
   "outputs": [
    {
     "name": "stdout",
     "output_type": "stream",
     "text": [
      "(3177, 16000)\n",
      "(3177,)\n",
      "(3177, 513, 32)\n"
     ]
    }
   ],
   "source": [
    "print(audios.shape)\n",
    "print(labels.shape)\n",
    "print(audio_spectrograms.shape)"
   ]
  },
  {
   "cell_type": "code",
   "execution_count": 19,
   "metadata": {},
   "outputs": [
    {
     "name": "stdout",
     "output_type": "stream",
     "text": [
      "(2541, 513, 32)\n",
      "(636, 513, 32)\n",
      "(2541,)\n",
      "(636,)\n"
     ]
    }
   ],
   "source": [
    "from sklearn.model_selection import train_test_split\n",
    "X_train, X_test, y_train, y_test = train_test_split(audio_spectrograms, labels, test_size=0.2, random_state=42)\n",
    "print(X_train.shape)\n",
    "print(X_test.shape)\n",
    "print(y_train.shape)\n",
    "print(y_test.shape)"
   ]
  },
  {
   "cell_type": "code",
   "execution_count": 20,
   "metadata": {},
   "outputs": [],
   "source": [
    "from keras.models import Sequential\n",
    "from keras.layers import Conv2D, MaxPooling2D, Flatten, Dense"
   ]
  },
  {
   "cell_type": "code",
   "execution_count": 21,
   "metadata": {},
   "outputs": [],
   "source": [
    "model=Sequential()\n",
    "model.add(Conv2D(32, (3, 3), activation='relu', input_shape=(513, 32, 1)))\n",
    "model.add(MaxPooling2D((2, 2)))\n",
    "model.add(Flatten())\n",
    "model.add(Dense(6, activation='relu'))\n",
    "model.add(Dense(1, activation='sigmoid'))\n",
    "model.compile(optimizer='adam', loss='binary_crossentropy', metrics=['accuracy'])"
   ]
  },
  {
   "cell_type": "code",
   "execution_count": 22,
   "metadata": {},
   "outputs": [
    {
     "name": "stdout",
     "output_type": "stream",
     "text": [
      "Epoch 1/40\n",
      "80/80 [==============================] - 2s 14ms/step - loss: 0.6154 - accuracy: 0.6651 - val_loss: 0.5136 - val_accuracy: 0.7563\n",
      "Epoch 2/40\n",
      "80/80 [==============================] - 1s 13ms/step - loss: 0.4373 - accuracy: 0.8209 - val_loss: 0.4182 - val_accuracy: 0.8223\n",
      "Epoch 3/40\n",
      "80/80 [==============================] - 1s 13ms/step - loss: 0.3326 - accuracy: 0.8709 - val_loss: 0.3680 - val_accuracy: 0.8491\n",
      "Epoch 4/40\n",
      "80/80 [==============================] - 1s 13ms/step - loss: 0.2899 - accuracy: 0.8843 - val_loss: 0.4521 - val_accuracy: 0.7956\n",
      "Epoch 5/40\n",
      "80/80 [==============================] - 1s 13ms/step - loss: 0.2118 - accuracy: 0.9339 - val_loss: 0.3431 - val_accuracy: 0.8569\n",
      "Epoch 6/40\n",
      "80/80 [==============================] - 1s 13ms/step - loss: 0.1544 - accuracy: 0.9559 - val_loss: 0.4911 - val_accuracy: 0.7846\n",
      "Epoch 7/40\n",
      "80/80 [==============================] - 1s 13ms/step - loss: 0.1235 - accuracy: 0.9662 - val_loss: 0.3448 - val_accuracy: 0.8538\n",
      "Epoch 8/40\n",
      "80/80 [==============================] - 1s 13ms/step - loss: 0.0864 - accuracy: 0.9827 - val_loss: 0.3562 - val_accuracy: 0.8522\n",
      "Epoch 9/40\n",
      "80/80 [==============================] - 1s 13ms/step - loss: 0.0626 - accuracy: 0.9925 - val_loss: 0.3523 - val_accuracy: 0.8601\n",
      "Epoch 10/40\n",
      "80/80 [==============================] - 1s 13ms/step - loss: 0.0507 - accuracy: 0.9953 - val_loss: 0.3453 - val_accuracy: 0.8632\n",
      "Epoch 11/40\n",
      "80/80 [==============================] - 1s 13ms/step - loss: 0.0316 - accuracy: 1.0000 - val_loss: 0.4132 - val_accuracy: 0.8506\n",
      "Epoch 12/40\n",
      "80/80 [==============================] - 1s 13ms/step - loss: 0.0609 - accuracy: 0.9831 - val_loss: 0.3420 - val_accuracy: 0.8616\n",
      "Epoch 13/40\n",
      "80/80 [==============================] - 1s 13ms/step - loss: 0.0219 - accuracy: 0.9996 - val_loss: 0.3544 - val_accuracy: 0.8538\n",
      "Epoch 14/40\n",
      "80/80 [==============================] - 1s 13ms/step - loss: 0.0134 - accuracy: 1.0000 - val_loss: 0.3668 - val_accuracy: 0.8522\n",
      "Epoch 15/40\n",
      "80/80 [==============================] - 1s 13ms/step - loss: 0.0106 - accuracy: 1.0000 - val_loss: 0.3871 - val_accuracy: 0.8695\n",
      "Epoch 16/40\n",
      "80/80 [==============================] - 1s 14ms/step - loss: 0.0088 - accuracy: 1.0000 - val_loss: 0.3859 - val_accuracy: 0.8553\n",
      "Epoch 17/40\n",
      "80/80 [==============================] - 1s 14ms/step - loss: 0.0070 - accuracy: 1.0000 - val_loss: 0.3954 - val_accuracy: 0.8522\n",
      "Epoch 18/40\n",
      "80/80 [==============================] - 1s 13ms/step - loss: 0.0061 - accuracy: 1.0000 - val_loss: 0.4058 - val_accuracy: 0.8506\n",
      "Epoch 19/40\n",
      "80/80 [==============================] - 1s 13ms/step - loss: 0.0050 - accuracy: 1.0000 - val_loss: 0.4110 - val_accuracy: 0.8553\n",
      "Epoch 20/40\n",
      "80/80 [==============================] - 1s 13ms/step - loss: 0.0044 - accuracy: 1.0000 - val_loss: 0.4159 - val_accuracy: 0.8506\n",
      "Epoch 21/40\n",
      "80/80 [==============================] - 1s 13ms/step - loss: 0.0038 - accuracy: 1.0000 - val_loss: 0.4306 - val_accuracy: 0.8648\n",
      "Epoch 22/40\n",
      "80/80 [==============================] - 1s 14ms/step - loss: 0.0035 - accuracy: 1.0000 - val_loss: 0.4406 - val_accuracy: 0.8553\n",
      "Epoch 23/40\n",
      "80/80 [==============================] - 1s 15ms/step - loss: 0.0030 - accuracy: 1.0000 - val_loss: 0.4447 - val_accuracy: 0.8491\n",
      "Epoch 24/40\n",
      "80/80 [==============================] - 1s 14ms/step - loss: 0.0026 - accuracy: 1.0000 - val_loss: 0.4545 - val_accuracy: 0.8553\n",
      "Epoch 25/40\n",
      "80/80 [==============================] - 1s 13ms/step - loss: 0.0024 - accuracy: 1.0000 - val_loss: 0.4453 - val_accuracy: 0.8522\n",
      "Epoch 26/40\n",
      "80/80 [==============================] - 1s 13ms/step - loss: 0.0021 - accuracy: 1.0000 - val_loss: 0.4586 - val_accuracy: 0.8538\n",
      "Epoch 27/40\n",
      "80/80 [==============================] - 1s 13ms/step - loss: 0.0019 - accuracy: 1.0000 - val_loss: 0.4644 - val_accuracy: 0.8569\n",
      "Epoch 28/40\n",
      "80/80 [==============================] - 1s 13ms/step - loss: 0.0017 - accuracy: 1.0000 - val_loss: 0.4586 - val_accuracy: 0.8569\n",
      "Epoch 29/40\n",
      "80/80 [==============================] - 1s 14ms/step - loss: 0.0015 - accuracy: 1.0000 - val_loss: 0.4746 - val_accuracy: 0.8569\n",
      "Epoch 30/40\n",
      "80/80 [==============================] - 1s 13ms/step - loss: 0.0014 - accuracy: 1.0000 - val_loss: 0.4730 - val_accuracy: 0.8569\n",
      "Epoch 31/40\n",
      "80/80 [==============================] - 1s 13ms/step - loss: 0.0013 - accuracy: 1.0000 - val_loss: 0.4918 - val_accuracy: 0.8569\n",
      "Epoch 32/40\n",
      "80/80 [==============================] - 1s 13ms/step - loss: 0.0012 - accuracy: 1.0000 - val_loss: 0.4868 - val_accuracy: 0.8569\n",
      "Epoch 33/40\n",
      "80/80 [==============================] - 1s 13ms/step - loss: 0.0011 - accuracy: 1.0000 - val_loss: 0.4890 - val_accuracy: 0.8553\n",
      "Epoch 34/40\n",
      "80/80 [==============================] - 1s 13ms/step - loss: 9.9150e-04 - accuracy: 1.0000 - val_loss: 0.5031 - val_accuracy: 0.8569\n",
      "Epoch 35/40\n",
      "80/80 [==============================] - 1s 14ms/step - loss: 9.1199e-04 - accuracy: 1.0000 - val_loss: 0.4912 - val_accuracy: 0.8538\n",
      "Epoch 36/40\n",
      "80/80 [==============================] - 1s 14ms/step - loss: 8.3487e-04 - accuracy: 1.0000 - val_loss: 0.5054 - val_accuracy: 0.8522\n",
      "Epoch 37/40\n",
      "80/80 [==============================] - 1s 14ms/step - loss: 7.7218e-04 - accuracy: 1.0000 - val_loss: 0.5037 - val_accuracy: 0.8506\n",
      "Epoch 38/40\n",
      "80/80 [==============================] - 1s 14ms/step - loss: 7.2876e-04 - accuracy: 1.0000 - val_loss: 0.5046 - val_accuracy: 0.8569\n",
      "Epoch 39/40\n",
      "80/80 [==============================] - 1s 15ms/step - loss: 6.5220e-04 - accuracy: 1.0000 - val_loss: 0.5205 - val_accuracy: 0.8553\n",
      "Epoch 40/40\n",
      "80/80 [==============================] - 1s 14ms/step - loss: 6.2257e-04 - accuracy: 1.0000 - val_loss: 0.5228 - val_accuracy: 0.8601\n"
     ]
    }
   ],
   "source": [
    "history=model.fit(X_train, y_train, epochs=40, batch_size=32, validation_data=(X_test, y_test))"
   ]
  },
  {
   "cell_type": "code",
   "execution_count": 23,
   "metadata": {},
   "outputs": [
    {
     "name": "stdout",
     "output_type": "stream",
     "text": [
      "20/20 [==============================] - 0s 3ms/step\n",
      "[[272  50]\n",
      " [ 39 275]]\n"
     ]
    }
   ],
   "source": [
    "y_pred=model.predict(X_test)\n",
    "y_pred=np.where(y_pred>0.5, 1, 0)\n",
    "from sklearn.metrics import confusion_matrix\n",
    "print(confusion_matrix(y_test, y_pred))"
   ]
  },
  {
   "cell_type": "code",
   "execution_count": 24,
   "metadata": {},
   "outputs": [
    {
     "name": "stdout",
     "output_type": "stream",
     "text": [
      "              precision    recall  f1-score   support\n",
      "\n",
      "           0       0.87      0.84      0.86       322\n",
      "           1       0.85      0.88      0.86       314\n",
      "\n",
      "    accuracy                           0.86       636\n",
      "   macro avg       0.86      0.86      0.86       636\n",
      "weighted avg       0.86      0.86      0.86       636\n",
      "\n",
      "0.8602583376191796\n"
     ]
    }
   ],
   "source": [
    "from sklearn.metrics import classification_report, roc_auc_score\n",
    "print(classification_report(y_test, y_pred))\n",
    "print(roc_auc_score(y_test, y_pred))"
   ]
  },
  {
   "cell_type": "code",
   "execution_count": 25,
   "metadata": {},
   "outputs": [],
   "source": [
    "def get_prediction(audio_path:str):\n",
    "    audio, sr = librosa.load(audio_path, sr=16000)  # 1D array of amplitudes\n",
    "    audio = librosa.util.fix_length(audio, size=fixed_length)\n",
    "    spectrogram = librosa.stft(audio, n_fft=n_fft, hop_length=hop_length)\n",
    "    spectrogram_db = librosa.amplitude_to_db(np.abs(spectrogram), ref=np.max)\n",
    "    spectrogram_db = (spectrogram_db - spectrogram_db.min()) / (spectrogram_db.max() - spectrogram_db.min())\n",
    "    spectrogram_db = np.expand_dims(spectrogram_db, axis=-1)\n",
    "    spectrogram_db = np.expand_dims(spectrogram_db, axis=0)\n",
    "    prediction = model.predict(spectrogram_db)\n",
    "    return prediction"
   ]
  },
  {
   "cell_type": "code",
   "execution_count": 26,
   "metadata": {},
   "outputs": [
    {
     "data": {
      "text/plain": [
       "48"
      ]
     },
     "execution_count": 26,
     "metadata": {},
     "output_type": "execute_result"
    }
   ],
   "source": [
    "import sys\n",
    "sys.getsizeof(model)"
   ]
  },
  {
   "cell_type": "code",
   "execution_count": 27,
   "metadata": {},
   "outputs": [],
   "source": [
    "import warnings\n",
    "warnings.filterwarnings('ignore')"
   ]
  },
  {
   "cell_type": "code",
   "execution_count": 28,
   "metadata": {},
   "outputs": [
    {
     "name": "stderr",
     "output_type": "stream",
     "text": [
      "WARNING:absl:Found untraced functions such as _jit_compiled_convolution_op while saving (showing 1 of 1). These functions will not be directly callable after loading.\n"
     ]
    },
    {
     "name": "stdout",
     "output_type": "stream",
     "text": [
      "INFO:tensorflow:Assets written to: C:\\Users\\anasm\\AppData\\Local\\Temp\\tmp74oc3y9u\\assets\n"
     ]
    },
    {
     "name": "stderr",
     "output_type": "stream",
     "text": [
      "INFO:tensorflow:Assets written to: C:\\Users\\anasm\\AppData\\Local\\Temp\\tmp74oc3y9u\\assets\n"
     ]
    },
    {
     "name": "stdout",
     "output_type": "stream",
     "text": [
      "✔ Model successfully converted to highly compressed TensorFlow Lite format!\n"
     ]
    }
   ],
   "source": [
    "def representative_data_gen():\n",
    "    for _ in range(100):\n",
    "        sample_input = np.random.rand(1, 513, 32, 1).astype(np.float32)  # Adjust shape as per input\n",
    "        yield [sample_input]\n",
    "\n",
    "# Convert the model to TensorFlow Lite format with full integer quantization\n",
    "converter = tf.lite.TFLiteConverter.from_keras_model(model)\n",
    "converter.optimizations = [tf.lite.Optimize.DEFAULT]  # Enable optimization\n",
    "converter.representative_dataset = representative_data_gen  # Use dataset for quantization\n",
    "converter.target_spec.supported_ops = [tf.lite.OpsSet.TFLITE_BUILTINS_INT8]  # Force full integer quantization\n",
    "converter.inference_input_type = tf.int8  # Input type: int8\n",
    "converter.inference_output_type = tf.int8  # Output type: int8\n",
    "\n",
    "# Convert and save the optimized model\n",
    "tflite_model = converter.convert()\n",
    "with open(\"cnn_model_compressed.tflite\", \"wb\") as f:\n",
    "    f.write(tflite_model)\n",
    "\n",
    "print(\"✔ Model successfully converted to highly compressed TensorFlow Lite format!\")"
   ]
  },
  {
   "cell_type": "code",
   "execution_count": 29,
   "metadata": {},
   "outputs": [],
   "source": [
    "def convert_to_header(tflite_model_path, header_file_path):\n",
    "    with open(tflite_model_path, 'rb') as f:\n",
    "        byte_array = f.read()\n",
    "    with open(header_file_path, 'w') as header_file:\n",
    "        header_file.write('#include <stdint.h>\\n')\n",
    "        header_file.write('const uint8_t g_model[] = {')\n",
    "        header_file.write(','.join(f'0x{b:02x}' for b in byte_array))\n",
    "        header_file.write('};\\n')\n",
    "\n",
    "convert_to_header('cnn_model_compressed.tflite', 'cnn_model_compressed.h')"
   ]
  },
  {
   "cell_type": "code",
   "execution_count": 30,
   "metadata": {},
   "outputs": [
    {
     "data": {
      "text/plain": [
       "Counter({0: 322, 1: 314})"
      ]
     },
     "execution_count": 30,
     "metadata": {},
     "output_type": "execute_result"
    }
   ],
   "source": [
    "from collections import Counter\n",
    "\n",
    "Counter(y_test)"
   ]
  },
  {
   "cell_type": "code",
   "execution_count": null,
   "metadata": {},
   "outputs": [],
   "source": []
  }
 ],
 "metadata": {
  "kernelspec": {
   "display_name": "py310",
   "language": "python",
   "name": "python3"
  },
  "language_info": {
   "codemirror_mode": {
    "name": "ipython",
    "version": 3
   },
   "file_extension": ".py",
   "mimetype": "text/x-python",
   "name": "python",
   "nbconvert_exporter": "python",
   "pygments_lexer": "ipython3",
   "version": "3.10.16"
  }
 },
 "nbformat": 4,
 "nbformat_minor": 2
}
